{
  "nbformat": 4,
  "nbformat_minor": 0,
  "metadata": {
    "colab": {
      "provenance": [],
      "authorship_tag": "ABX9TyMnNmtK03zCbI7xkjHM2YwG",
      "include_colab_link": true
    },
    "kernelspec": {
      "name": "python3",
      "display_name": "Python 3"
    },
    "language_info": {
      "name": "python"
    }
  },
  "cells": [
    {
      "cell_type": "markdown",
      "metadata": {
        "id": "view-in-github",
        "colab_type": "text"
      },
      "source": [
        "<a href=\"https://colab.research.google.com/github/oykunacioglu/Contact_Book/blob/main/Contact_Book.ipynb\" target=\"_parent\"><img src=\"https://colab.research.google.com/assets/colab-badge.svg\" alt=\"Open In Colab\"/></a>"
      ]
    },
    {
      "cell_type": "code",
      "execution_count": null,
      "metadata": {
        "colab": {
          "base_uri": "https://localhost:8080/"
        },
        "id": "D0BqhT_79HFG",
        "outputId": "57e4dd5c-18fa-4915-d31f-605d7ab6e917"
      },
      "outputs": [
        {
          "output_type": "stream",
          "name": "stdout",
          "text": [
            "Contact Book Menu\n",
            "1. Add Contact\n",
            "2. View Contacts\n",
            "3. Search Contact\n",
            "4. Edit Contact\n",
            "5. Delete Contact\n",
            "6. Exit\n"
          ]
        }
      ],
      "source": [
        "contacts = {}\n",
        "\n",
        "def show_menü():\n",
        "  print(\"Contact Book Menu\")\n",
        "  print(\"1. Add Contact\")\n",
        "  print(\"2. View Contacts\")\n",
        "  print(\"3. Search Contact\")\n",
        "  print(\"4. Edit Contact\")\n",
        "  print(\"5. Delete Contact\")\n",
        "  print(\"6. Exit\")\n",
        "\n",
        "def add_contact():\n",
        "  name = input(\"Name: \")\n",
        "  phone = input(\"Phone: \")\n",
        "  email = input(\"Email: \")\n",
        "  contacts[name] = {\n",
        "    \"phone\": phone,\n",
        "    \"email\": email\n",
        "  }\n",
        "  print(\"Contact added\")\n",
        "\n",
        "def view_contact():\n",
        "  if contacts:\n",
        "    print(\"Contacts:\")\n",
        "    print(\"Name\\t\\tPhone\\t\\tEmail\")\n",
        "    for name, contact in contacts.items():\n",
        "      print(f\"{name}\\t\\t{contact['phone']}\\t\\t{contact['email']}\")\n",
        "  else:\n",
        "    print(\"No contacts found\")\n",
        "\n",
        "def search_contact():\n",
        "  name = input(\"Enter name to search: \")\n",
        "  if name in contacts:\n",
        "    contact = contacts[name]\n",
        "    print(f\"Name: {name}\")\n",
        "    print(f\"Phone: {contact['phone']}\")\n",
        "    print(f\"Email: {contact['email']}\")\n",
        "  else:\n",
        "    print(\"Contact not found\")\n",
        "\n",
        "def edit_contact():\n",
        "  name = input(\"Enter name to edit: \")\n",
        "  if name in contacts:\n",
        "    contact = contacts[name]\n",
        "    print(\"What do you want to edit?\")\n",
        "    print(\"1. Phone\")\n",
        "    print(\"2. Email\")\n",
        "    choice = input(\"Choose an option (1 or 2): \")\n",
        "    if choice == \"1\":\n",
        "      new_phone = input(\"Enter new phone: \")\n",
        "      contact[\"phone\"] = new_phone\n",
        "      print(\"Phone updated\")\n",
        "    elif choice == \"2\":\n",
        "      new_email = input(\"Enter new email: \")\n",
        "      contact[\"email\"] = new_email\n",
        "      print(\"Email updated\")\n",
        "    else:\n",
        "      print(\"Invalid option\")\n",
        "  else:\n",
        "    print(\"Contact not found\")\n",
        "\n",
        "def delete_contact():\n",
        "  name = input(\"Enter name to delete: \")\n",
        "  if name in contacts:\n",
        "    del contacts[name]\n",
        "    print(\"Contact deleted\")\n",
        "  else:\n",
        "    print(\"Contact not found\")\n",
        "\n",
        "while True:\n",
        "  show_menü()\n",
        "  choice = input(\"Choose an option: \")\n",
        "  if choice == \"1\":\n",
        "    add_contact()\n",
        "  elif choice == \"2\":\n",
        "    view_contact()\n",
        "  elif choice == \"3\":\n",
        "    search_contact()\n",
        "  elif choice == \"4\":\n",
        "    edit_contact()\n",
        "  elif choice == \"5\":\n",
        "    delete_contact()\n",
        "  elif choice == \"6\":\n",
        "    break\n",
        "  else:\n",
        "    print(\"Invalid choice\")"
      ]
    }
  ]
}